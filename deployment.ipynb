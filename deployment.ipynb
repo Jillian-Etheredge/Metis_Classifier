{
 "cells": [
  {
   "cell_type": "code",
   "execution_count": null,
   "id": "composite-aberdeen",
   "metadata": {},
   "outputs": [],
   "source": [
    "import pandas as pd\n",
    "import numpy as np\n",
    "import json\n",
    "import matplotlib.pyplot as plt\n",
    "from PIL import Image\n",
    "from fastai.vision.all import *\n",
    "from fastai.vision.widgets import *\n",
    "species_labels=pd.read_csv('species_labels.csv')\n"
   ]
  },
  {
   "cell_type": "markdown",
   "id": "sunrise-pennsylvania",
   "metadata": {},
   "source": [
    "# <div align=\"center\"> <span style='font-family:Georgia'> Wildlife Image Classifier </span></div>\n",
    "## <div align=\"center\"><span style='font-family:Georgia'> This app used an image classifying model I created to identify animals in wildlife from camera trap images used by Snapshot Serengeti. Here's a list of animals it's trained on so far! Load a picture of one of these animals and test it out!</span></div>\n",
    "<span style='font-family:Georgia'> \n",
    "    * Grant's gazelle \n",
    "    * Reedbuck \n",
    "    * Dikdik \n",
    "    * Zebra \n",
    "    * Porcupine \n",
    "    * Thomson's gazelle \n",
    "    * Spotted hyena \n",
    "    * Warthog \n",
    "    * Impala \n",
    "    * Elephant \n",
    "    * Aardvark \n",
    "    * Giraffe \n",
    "    * Mongoose \n",
    "    * Buffalo \n",
    "    * Hartebeest \n",
    "    * Leopard \n",
    "    * Ostrich \n",
    "    * Female Lion \n",
    "    * Kori bustard \n",
    "    * Guinea Fowl \n",
    "    * Cheetah \n",
    "    * Honey Badger \n",
    "    * Bush buck \n",
    "    * Jackal \n",
    "    * Aardwolf \n",
    "    * Hippopotamus \n",
    "    * Striped hyena \n",
    "    * Hare \n",
    "    * Baboon \n",
    "    * Vervet monkey \n",
    "    * Bat-eared fox \n",
    "    * Waterbuck \n",
    "    * Secretary bird \n",
    "    * Topi \n",
    "    * Serval \n",
    "    * Male lion \n",
    "    * Eland \n",
    "    * Wildcat \n",
    "    * Civet \n",
    "    * Genet \n",
    "    * Zorilla \n",
    "    * Caracal \n",
    "    * Rhinoceros \n",
    "    * Reptiles \n",
    "</span>"
   ]
  },
  {
   "cell_type": "code",
   "execution_count": null,
   "id": "built-tender",
   "metadata": {},
   "outputs": [],
   "source": [
    "def get_x(r): return r['image_id']\n",
    "def get_y(r): return r['species']\n",
    "\n",
    "path = Path()\n",
    "learn_inf = load_learner(path/'export.pkl', cpu=True)\n",
    "btn_upload = widgets.FileUpload()\n",
    "out_pl = widgets.Output()\n",
    "lbl_pred = widgets.Label()\n",
    "\n",
    "def on_data_change(change):\n",
    "    lbl_pred.value = ''\n",
    "    img = PILImage.create(btn_upload.data[-1])\n",
    "    out_pl.clear_output()\n",
    "    with out_pl: display(img.to_thumb(512,512))\n",
    "    pred,pred_idx,probs = learn_inf.predict(img)\n",
    "    lbl_pred.value = f'Prediction: {pred}; Probability: {probs[pred_idx]:.04f}'\n",
    "    \n",
    "btn_upload.observe(on_data_change, names=['data'])\n",
    "display(VBox([widgets.Label('Select your Animal!'), btn_upload, out_pl, lbl_pred]))"
   ]
  }
 ],
 "metadata": {
  "environment": {
   "name": "pytorch-gpu.1-7.m65",
   "type": "gcloud",
   "uri": "gcr.io/deeplearning-platform-release/pytorch-gpu.1-7:m65"
  },
  "kernelspec": {
   "display_name": "Python 3",
   "language": "python",
   "name": "python3"
  },
  "language_info": {
   "codemirror_mode": {
    "name": "ipython",
    "version": 3
   },
   "file_extension": ".py",
   "mimetype": "text/x-python",
   "name": "python",
   "nbconvert_exporter": "python",
   "pygments_lexer": "ipython3",
   "version": "3.8.6"
  }
 },
 "nbformat": 4,
 "nbformat_minor": 5
}
