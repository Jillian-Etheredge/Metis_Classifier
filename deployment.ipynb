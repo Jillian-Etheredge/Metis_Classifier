{
 "cells": [
  {
   "cell_type": "code",
   "execution_count": 25,
   "id": "composite-aberdeen",
   "metadata": {},
   "outputs": [],
   "source": [
    "import pandas as pd\n",
    "import numpy as np\n",
    "import json\n",
    "import matplotlib.pyplot as plt\n",
    "from PIL import Image\n",
    "from fastai.vision.all import *\n",
    "from fastai.vision.widgets import *\n",
    "species_labels=pd.read_csv('species_labels.csv')\n"
   ]
  },
  {
   "cell_type": "markdown",
   "id": "sunrise-pennsylvania",
   "metadata": {},
   "source": [
    "# <div align=\"center\"> <span style='font-family:Georgia'> Wildlife Image Classifier </span></div>\n",
    "\n",
    "<div align=\"center\"><img src=\"https://www.goodnewsnetwork.org/wp-content/uploads/2015/06/Lion-photoby-Snapshot-Serengeti-FB-page.jpg\" /></div>\n",
    "    \n",
    "## <div align=\"center\"><span style='font-family:Georgia'> This app used an image classifying model I created to identify animals in wildlife from camera trap images used by Snapshot Serengeti. Here's a list of animals it's trained on so far! Load a picture of one of these animals and test it out!</span></div>\n",
    "\n",
    "* Wildebeest \n",
    "* Zebra \n",
    "* Thomson's gazelle \n",
    "* Hartebeest \n",
    "* Grant's gazelle \n",
    "* Buffalo \n",
    "* Guinea fowl \n",
    "* Warthog \n",
    "* Giraffe \n",
    "* Elephant \n",
    "* Spotted hyena \n",
    "* Other bird \n",
    "* Female lion\n",
    "* Impala \n",
    "* Eland \n",
    "* Topi \n",
    "* Reedbuck \n",
    "* Dik Dik \n",
    "* Cheetah \n",
    "* Male lion \n",
    "* Baboon \n",
    "* Hippopotamus\n",
    "* Kori bustard \n",
    "* Ostrich \n",
    "* Hare \n",
    "* Jackal\n",
    "* Bat-eared fox \n",
    "* Vervet monkey \n",
    "* Serval\n",
    "* Secretary bird \n",
    "* Mongoose \n",
    "* Aardvark \n",
    "* Reptiles \n",
    "* Porcupine \n",
    "* Striped hyena \n",
    "* Aardwolf\n",
    "* Leopard \n",
    "* Rodents \n",
    "* Bushbuck \n",
    "* Caracal \n",
    "* Waterbuck \n",
    "* Wildcat \n",
    "* Honey badger \n",
    "* Genet\n",
    "* Rhinoceros \n",
    "* Civet \n",
    "* Zorilla\n"
   ]
  },
  {
   "cell_type": "code",
   "execution_count": null,
   "id": "built-tender",
   "metadata": {},
   "outputs": [],
   "source": [
    "def get_x(r): return r['image_id']\n",
    "def get_y(r): return r['species']\n",
    "\n",
    "path = Path()\n",
    "learn_inf = load_learner(path/'fine_tuned_model.pkl', cpu=True)\n",
    "btn_upload = widgets.FileUpload()\n",
    "out_pl = widgets.Output()\n",
    "lbl_pred = widgets.Label()\n",
    "\n",
    "def on_data_change(change):\n",
    "    lbl_pred.value = ''\n",
    "    img = PILImage.create(btn_upload.data[-1])\n",
    "    out_pl.clear_output()\n",
    "    with out_pl: display(img.to_thumb(512,512))\n",
    "    pred,pred_idx,probs = learn_inf.predict(img)\n",
    "    lbl_pred.value = f'Prediction: {pred}; Probability: {probs[pred_idx]:.04f}'\n",
    "    \n",
    "btn_upload.observe(on_data_change, names=['data'])\n",
    "display(VBox([widgets.Label('Select your Animal!'), btn_upload, out_pl, lbl_pred]))"
   ]
  },
  {
   "cell_type": "code",
   "execution_count": 47,
   "id": "latest-shame",
   "metadata": {},
   "outputs": [
    {
     "data": {
      "application/vnd.jupyter.widget-view+json": {
       "model_id": "c021f86c377a417eb6c6c0c8f45147fa",
       "version_major": 2,
       "version_minor": 0
      },
      "text/plain": [
       "Dropdown(options={'Wildebeest': ['Wildebeest also known as the gnu, are a member of the antelope family.', 'Ab…"
      ]
     },
     "metadata": {},
     "output_type": "display_data"
    }
   ],
   "source": [
    "d = {\"Wildebeest\": [\"Wildebeest also known as the gnu, are a member of the antelope family.\",\n",
    "                    \"About 80 percent of the females calve within the same two- to three-week period, creating a glut for predators and enabling more calves to survive the crucial first few weeks.\",\n",
    "                   \"Predators of the wildebeest are lions, cheetahs, hunting dogs, and hyenas.\",\n",
    "                   \"Their habitat is threatened by fragmentation, which is caused when land is fenced off for agriculture. While they are widespread and abundant in certain areas, the spread of civilization and agriculture, the reduction of water sources, and poaching are threatening this iconic species’ survival.\"],\n",
    "     \"Zebra\": [\"The most common and widespread zebra is the plains zebra.\",\n",
    "              'They live in small family groups called “harems.” These groups consist of one stallion, several mares, and their offspring. Harems generally remain together for months or even years, making it an incredibly stable family unit.',\n",
    "              'Plains zebras have at least 6 different vocal calls. A two-syllable call is used to alert herd members to predators while snorts indicate happiness. They also use facial expressions to communicate.',\n",
    "              'Predators of the plains zebra are lions, cheetahs, hyenas, hunting dogs, leopards, and humans.',\n",
    "              'Habitat loss due to human encroachment, agricultural practices, and livestock grazing remains an issue in the ongoing conservation of this species. These problems seem to be especially prevalent in the southern half of their range and account for much of recent population decline.',\n",
    "              'Especially severe in the northern half of their range, over-hunting poses a serious danger to zebra populations. They are hunted for their meat and their distinctive skins.'],\n",
    "    \"Thomson's Gazelle\":[],\n",
    "    \"Hartebeest\":[],\n",
    "    \"Grant's Gazelle\":[],\n",
    "    \"Buffalo\":[],\n",
    "    \"Guinea Fowl\":[],\n",
    "    \"Warthog\":[],\n",
    "    \"Giraffe\":[\"Giraffes are the world's tallest mammals!\",\n",
    "              \"They are uniquely adapted to reach vegatation inaccessible to ther herbivores.\",\n",
    "              \"Giraffes are extremely picky eaters. They feed 16 to 20 hours per day, but may only consume about 30 pounds of foilage at that time.\",\n",
    "              \"Predators of giraffes are humans, lions, leopards, hyenas, and crocodiles.\",\n",
    "              'Humans hunt giraffes for their hides, meat, and body parts. Giraffes have lost 40% of their population in just 30 years and recent reports show poaching and wildlife trafficking are contributing to their decline.',\n",
    "              'The number of giraffes in the wild is shrinking as their habitats shrink. In the late 19th and 20th centuries herds of 20 to 30 animals were recorded, now on average herd sizes contain fewer than six individuals.'],\n",
    "    \"Elephant\":[],\n",
    "    \"Spotted hyena\":[],\n",
    "    \"Lion\":[\"Lions are the second-largest big cat after the tiger. Their roar can be heard as far as 8 kilometers away.\",\n",
    "           \"They have developed a social system based on teamwork, division of labor, and an extended family unit. The average pride consists of about 15 individuals, with five to 10 females, their young, and two or three territorial males. These are usually brothers or pride mates who have formed a coalition to protect their females.\",\n",
    "           \" In just two decades, populations decreased by 43 percent, and it’s estimated that as few as 23,000 remain today. One of the main causes is the alarming rate at which they are losing their habitats due to expanding human populations and the resulting growth of agriculture, settlements, and roads.\",\n",
    "           \"With humans as their only known predators lions re being killed in rituals of bravery, prized as hunting trophies, and, increasingly, for their body parts' perceived medicinal and magical powers.\"],\n",
    "    \"Impala\":[],\n",
    "    \"Topi\":[],\n",
    "    \"Reedbuck\":[],\n",
    "    \"Dik Dik\":[],\n",
    "    \"Cheetah\":[],\n",
    "    \"Baboon\":[],\n",
    "     \"Hippopotamus\":[\"Hippos are the third-largest living land mammal, after elephants and white rhinos. Despite their large and bulky appearance, they have adaptations to their semi-aquatic environments allowing them to move swiftly on both water and land.\",\n",
    "                    \"The hippopotamus does not have sweat or sebaceous glands. This accounts for the amount of time they spend in the water. Instead of sweating, they secrete a viscous red fluid, which protects the animal’s skin against the sun and possibly acts as healing agents.\",\n",
    "                    \"Predators of the hippopotamus are  humans, lions, crocodiles, and hyenas.\",\n",
    "                    \"Hundreds of hippos are shot each year to minimize human-wildlife conflict, despite the fact that ditches or low fences easily deter them. It is more likely that the popularity of their meat is the reason for this strategy. Their fat and ivory tusks are also valuable to humans.  At the beginning of the 21st century, the population of the common hippo declined more than 95 percent in the Democratic Republic of the Congo.\",\n",
    "                    \"The hippopotamus once ranged from the Nile Delta to the Cape, but now is mostly confined to protected areas. The primary threats to both hippopotamus species are habitat loss and deforestation.\"],\n",
    "     \"Kori bustard\":[],\n",
    "     \"Ostrich\":[],\n",
    "     \"Hare\":[],\n",
    "     \"Jackal\":[],\n",
    "     \"Bat-eared fox\":[],\n",
    "     \"Vervet monkey\":[],\n",
    "     \"Serval\":[],\n",
    "     \"Secretary bird\":[],\n",
    "     \"Mongoose\":[],\n",
    "     \"Aardvark\":[],\n",
    "     \"Porcupine\":[],\n",
    "     \"Striped hyena \":[],\n",
    "     \"Aardwolf\":[],\n",
    "     \"Leopard\":[\"There are nine subspecies and are distinguished by the unique characteristics of their coats, which range from tawny or light yellow in warm, dry habitats to reddish-orange in dense forests.\",\n",
    "               \"They are predominantly nocturnal, solitary animals, but each individual has a home range that overlaps with its neighbors.\",\n",
    "               \"A female typically gives birth to a litter of two or three cubs. She abandons her nomadic lifestyle until the cubs are large enough to accompany her. She keeps them hidden for the first eight weeks and moves them from one location to the next until they are old enough to start learning to hunt.\",\n",
    "               \"Habitat fragmentation, reduced prey base, and human-wildlife conflict have greatly reduced this species’ population throughout most of their range. Although they are widely distributed across Africa and Asia, due to habitat fragmentation and loss, their range has reduced by 31 percent worldwide in the past three generations (about 22 years).\"],\n",
    "     \"Bushbuck\":[],\n",
    "     \"Caracal\":[],\n",
    "     \"Waterbuck\":[],\n",
    "     \"Honey badger\":[],\n",
    "     \"Genet\":[],\n",
    "     \"Rhinoceros\":[],\n",
    "     \"Civet\":[],\n",
    "     \"Zorilla\":[],\n",
    "    }\n",
    "\n",
    "\n",
    "dropdown = widgets.Dropdown(options=d)\n",
    "output_animal = widgets.Output()\n",
    "\n",
    "def dropdown_eventhandler(change):\n",
    "    output_animal.clear_output()\n",
    "    with output_animal:\n",
    "        display(' '.join(dropdown.value))\n",
    "        \n",
    "dropdown.observe(dropdown_eventhandler, names='value')    \n",
    "display(dropdown)"
   ]
  },
  {
   "cell_type": "code",
   "execution_count": 48,
   "id": "ordinary-mileage",
   "metadata": {},
   "outputs": [
    {
     "data": {
      "application/vnd.jupyter.widget-view+json": {
       "model_id": "150ed24bc9af4685a1f5c82da59b6f7d",
       "version_major": 2,
       "version_minor": 0
      },
      "text/plain": [
       "Output(outputs=({'output_type': 'display_data', 'data': {'text/plain': \"'Wildebeest also known as the gnu, are…"
      ]
     },
     "metadata": {},
     "output_type": "display_data"
    }
   ],
   "source": [
    "display(output_animal)"
   ]
  },
  {
   "cell_type": "markdown",
   "id": "rural-infrastructure",
   "metadata": {},
   "source": [
    "The images used to train this model are from [Snapshot Serengeti](https://www.zooniverse.org/projects/zooniverse/snapshot-serengeti). The species information is from [The African Wildlife Foundation](https://www.awf.org/). If you're interested in the coding that went into creating this model my GitHub repository can be found [here](https://github.com/Jilliane1993/Wildlife_Image_Classification)."
   ]
  },
  {
   "cell_type": "code",
   "execution_count": null,
   "id": "classified-export",
   "metadata": {},
   "outputs": [],
   "source": []
  }
 ],
 "metadata": {
  "environment": {
   "name": "pytorch-gpu.1-7.m65",
   "type": "gcloud",
   "uri": "gcr.io/deeplearning-platform-release/pytorch-gpu.1-7:m65"
  },
  "kernelspec": {
   "display_name": "Python 3",
   "language": "python",
   "name": "python3"
  },
  "language_info": {
   "codemirror_mode": {
    "name": "ipython",
    "version": 3
   },
   "file_extension": ".py",
   "mimetype": "text/x-python",
   "name": "python",
   "nbconvert_exporter": "python",
   "pygments_lexer": "ipython3",
   "version": "3.8.6"
  }
 },
 "nbformat": 4,
 "nbformat_minor": 5
}
