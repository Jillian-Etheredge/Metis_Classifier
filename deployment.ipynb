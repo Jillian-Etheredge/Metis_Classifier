{
 "cells": [
  {
   "cell_type": "code",
   "execution_count": 2,
   "id": "composite-aberdeen",
   "metadata": {},
   "outputs": [],
   "source": [
    "import pandas as pd\n",
    "import numpy as np\n",
    "import json\n",
    "import matplotlib.pyplot as plt\n",
    "from PIL import Image\n",
    "from fastai.vision.all import *\n",
    "from fastai.vision.widgets import *\n",
    "species_labels=pd.read_csv('species_labels.csv')\n"
   ]
  },
  {
   "cell_type": "markdown",
   "id": "sunrise-pennsylvania",
   "metadata": {},
   "source": [
    "# <div align=\"center\"> <span style='font-family:Georgia'> Wildlife Image Classifier </span></div>\n",
    "## <div align=\"center\"><span style='font-family:Georgia'> This app used an image classifying model I created to identify animals in wildlife from camera trap images used by Snapshot Serengeti. Here's a list of animals it's trained on so far! Load a picture of one of these animals and test it out!</span></div>\n",
    "\n",
    "* Wildebeest\n",
    "* Zebra\n",
    "* Thomson's gazelle\n",
    "* Hartebeest\n",
    "* Grant's gazelle\n",
    "* Buffalo\n",
    "* Guinea fowl\n",
    "* Warthog\n",
    "* Giraffe\n",
    "* Elephant\n",
    "* Spotted hyena\n",
    "* Other bird\n",
    "* Female lion\n",
    "* Impala\n",
    "* Eland\n",
    "* Topi\n",
    "* Reedbuck\n",
    "* Dik Dik\n",
    "* Cheetah\n",
    "* Male lion\n",
    "* Baboon\n",
    "* Hippopotamus\n",
    "* Kori bustard\n",
    "* Ostrich\n",
    "* Hare\n",
    "* Jackal\n",
    "* Bat-eared fox\n",
    "* Vervet monkey\n",
    "* Serval\n",
    "* Secretary bird\n",
    "* Mongoose\n",
    "* Aardvark\n",
    "* Reptiles\n",
    "* Porcupine\n",
    "* Striped hyena\n",
    "* Aardwolf\n",
    "* Leopard\n",
    "* Rodents\n",
    "* Bushbuck\n",
    "* Caracal\n",
    "* Waterbuck\n",
    "* Wildcat\n",
    "* Honey badger\n",
    "* Genet\n",
    "* Rhinoceros\n",
    "* Civet\n",
    "* Zorilla\n"
   ]
  },
  {
   "cell_type": "code",
   "execution_count": 10,
   "id": "built-tender",
   "metadata": {},
   "outputs": [
    {
     "data": {
      "application/vnd.jupyter.widget-view+json": {
       "model_id": "4b308906adaf4b83b0d20073956fffdd",
       "version_major": 2,
       "version_minor": 0
      },
      "text/plain": [
       "VBox(children=(Label(value='Select your Animal!'), FileUpload(value={}, description='Upload'), Output(), Label…"
      ]
     },
     "metadata": {},
     "output_type": "display_data"
    }
   ],
   "source": [
    "def get_x(r): return r['image_id']\n",
    "def get_y(r): return r['species']\n",
    "\n",
    "path = Path()\n",
    "learn_inf = load_learner(path/'export.pkl', cpu=True)\n",
    "btn_upload = widgets.FileUpload()\n",
    "out_pl = widgets.Output()\n",
    "lbl_pred = widgets.Label()\n",
    "\n",
    "def on_data_change(change):\n",
    "    lbl_pred.value = ''\n",
    "    img = PILImage.create(btn_upload.data[-1])\n",
    "    out_pl.clear_output()\n",
    "    with out_pl: display(img.to_thumb(512,512))\n",
    "    pred,pred_idx,probs = learn_inf.predict(img)\n",
    "    lbl_pred.value = f'Prediction: {pred}; Probability: {probs[pred_idx]:.04f}'\n",
    "    \n",
    "btn_upload.observe(on_data_change, names=['data'])\n",
    "display(VBox([widgets.Label('Select your Animal!'), btn_upload, out_pl, lbl_pred]))"
   ]
  },
  {
   "cell_type": "code",
   "execution_count": null,
   "id": "square-bundle",
   "metadata": {},
   "outputs": [],
   "source": []
  }
 ],
 "metadata": {
  "environment": {
   "name": "pytorch-gpu.1-7.m65",
   "type": "gcloud",
   "uri": "gcr.io/deeplearning-platform-release/pytorch-gpu.1-7:m65"
  },
  "kernelspec": {
   "display_name": "Python 3",
   "language": "python",
   "name": "python3"
  },
  "language_info": {
   "codemirror_mode": {
    "name": "ipython",
    "version": 3
   },
   "file_extension": ".py",
   "mimetype": "text/x-python",
   "name": "python",
   "nbconvert_exporter": "python",
   "pygments_lexer": "ipython3",
   "version": "3.8.6"
  }
 },
 "nbformat": 4,
 "nbformat_minor": 5
}
