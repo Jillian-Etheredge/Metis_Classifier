{
 "cells": [
  {
   "cell_type": "code",
   "execution_count": null,
   "id": "composite-aberdeen",
   "metadata": {},
   "outputs": [],
   "source": [
    "import pandas as pd\n",
    "import numpy as np\n",
    "import json\n",
    "import matplotlib.pyplot as plt\n",
    "from PIL import Image\n",
    "from fastai.vision.all import *\n",
    "from fastai.vision.widgets import *\n",
    "species_labels=pd.read_csv('species_labels.csv')\n"
   ]
  },
  {
   "cell_type": "markdown",
   "id": "sunrise-pennsylvania",
   "metadata": {},
   "source": [
    "# <span style='font-family:Georgia'> Wildlife Image Classifier </span>\n",
    "## <span style='font-family:Georgia'> This app used an image classifying model I created to identify animals in wildlife from camera trap images used by Snapshot Serengeti. Here's a list of animals it's trained on so far! Load a picture of one of these animals and test it out!</span>\n",
    "<span style='font-family:Georgia'> \n",
    "    1. Grant's gazelle <br>\n",
    "    2. Reedbuck <br>\n",
    "    3. Dikdik <br>\n",
    "    4. Zebra <br>\n",
    "    5. Porcupine <br>\n",
    "    6. Thomson's gazelle <br>\n",
    "    7. Spotted hyena <br>\n",
    "    8. Warthog <br>\n",
    "    9. Impala <br>\n",
    "    10. Elephant <br>\n",
    "    11. Aardvark <br>\n",
    "    12. Giraffe <br>\n",
    "    13. Mongoose <br>\n",
    "    14. Buffalo <br>\n",
    "    15. Hartebeest <br>\n",
    "    16. Leopard <br>\n",
    "    17. Ostrich <br>\n",
    "    18. Female Lion <br>\n",
    "    19. Kori bustard <br>\n",
    "    20. Guinea Fowl <br>\n",
    "    21. Cheetah <br>\n",
    "    22. Honey Badger <br>\n",
    "    23. Bush buck <br>\n",
    "    24. Jackal <br>\n",
    "    25. Aardwolf <br>\n",
    "    26. Hippopotamus <br>\n",
    "    27. Striped hyena <br>\n",
    "    28. Hare <br>\n",
    "    29. Baboon <br>\n",
    "    30. Vervet monkey <br>\n",
    "    31. Bat-eared fox <br>\n",
    "    32. Waterbuck <br>\n",
    "    33. Secretary bird <br>\n",
    "    34. Topi <br>\n",
    "    35. Serval <br>\n",
    "    36. Male lion <br>\n",
    "    37. Eland <br>\n",
    "    38. Wildcat <br>\n",
    "    39. Civet <br>\n",
    "    40. Genet <br>\n",
    "    41. Zorilla <br>\n",
    "    42. Caracal <br>\n",
    "    43. Rhinoceros <br>\n",
    "    44. Reptiles <br>\n",
    "</span>"
   ]
  },
  {
   "cell_type": "code",
   "execution_count": null,
   "id": "built-tender",
   "metadata": {},
   "outputs": [],
   "source": [
    "def get_x(r): return r['image_id']\n",
    "def get_y(r): return r['species']\n",
    "\n",
    "path = Path()\n",
    "learn_inf = load_learner(path/'export.pkl', cpu=True)\n",
    "btn_upload = widgets.FileUpload()\n",
    "out_pl = widgets.Output()\n",
    "lbl_pred = widgets.Label()\n",
    "\n",
    "def on_data_change(change):\n",
    "    lbl_pred.value = ''\n",
    "    img = PILImage.create(btn_upload.data[-1])\n",
    "    out_pl.clear_output()\n",
    "    with out_pl: display(img.to_thumb(128,128))\n",
    "    pred,pred_idx,probs = learn_inf.predict(img)\n",
    "    lbl_pred.value = f'Prediction: {pred}; Probability: {probs[pred_idx]:.04f}'\n",
    "    \n",
    "btn_upload.observe(on_data_change, names=['data'])\n",
    "display(VBox([widgets.Label('Select your Animal!'), btn_upload, out_pl, lbl_pred]))"
   ]
  }
 ],
 "metadata": {
  "environment": {
   "name": "pytorch-gpu.1-7.m65",
   "type": "gcloud",
   "uri": "gcr.io/deeplearning-platform-release/pytorch-gpu.1-7:m65"
  },
  "kernelspec": {
   "display_name": "Python 3",
   "language": "python",
   "name": "python3"
  },
  "language_info": {
   "codemirror_mode": {
    "name": "ipython",
    "version": 3
   },
   "file_extension": ".py",
   "mimetype": "text/x-python",
   "name": "python",
   "nbconvert_exporter": "python",
   "pygments_lexer": "ipython3",
   "version": "3.8.6"
  }
 },
 "nbformat": 4,
 "nbformat_minor": 5
}
