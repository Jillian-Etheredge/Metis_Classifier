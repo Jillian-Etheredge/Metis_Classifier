{
 "cells": [
  {
   "cell_type": "code",
   "execution_count": 1,
   "id": "composite-aberdeen",
   "metadata": {},
   "outputs": [],
   "source": [
    "import pandas as pd\n",
    "import numpy as np\n",
    "import json\n",
    "import matplotlib.pyplot as plt\n",
    "from PIL import Image\n",
    "from fastai.vision.all import *\n",
    "from fastai.vision.widgets import *\n",
    "species_labels=pd.read_csv('species_labels.csv')\n"
   ]
  },
  {
   "cell_type": "markdown",
   "id": "sunrise-pennsylvania",
   "metadata": {},
   "source": [
    "# <div align=\"center\"> <span style='font-family:Georgia'> Wildlife Image Classifier </span></div>\n",
    "\n",
    "<div align=\"center\"><img src=\"https://www.goodnewsnetwork.org/wp-content/uploads/2015/06/Lion-photoby-Snapshot-Serengeti-FB-page.jpg\" /></div>\n",
    "    \n",
    "## <div align=\"center\"><span style='font-family:Georgia'> This app used an image classifying model I created to identify animals in wildlife from camera trap images used by Snapshot Serengeti. Here's a list of animals it's trained on so far! Load a picture of one of these animals and test it out!</span></div>\n",
    "\n",
    "* Wildebeest \n",
    "* Zebra \n",
    "* Thomson's gazelle \n",
    "* Hartebeest \n",
    "* Grant's gazelle \n",
    "* Buffalo \n",
    "* Guinea fowl \n",
    "* Warthog \n",
    "* Giraffe \n",
    "* Elephant \n",
    "* Spotted hyena \n",
    "* Other bird \n",
    "* Female lion\n",
    "* Impala \n",
    "* Eland \n",
    "* Topi \n",
    "* Reedbuck \n",
    "* Dik Dik \n",
    "* Cheetah \n",
    "* Male lion \n",
    "* Baboon \n",
    "* Hippopotamus\n",
    "* Kori bustard \n",
    "* Ostrich \n",
    "* Hare \n",
    "* Jackal\n",
    "* Bat-eared fox \n",
    "* Vervet monkey \n",
    "* Serval\n",
    "* Secretary bird \n",
    "* Mongoose \n",
    "* Aardvark \n",
    "* Reptiles \n",
    "* Porcupine \n",
    "* Striped hyena \n",
    "* Aardwolf\n",
    "* Leopard \n",
    "* Rodents \n",
    "* Bushbuck \n",
    "* Caracal \n",
    "* Waterbuck \n",
    "* Wildcat \n",
    "* Honey badger \n",
    "* Genet\n",
    "* Rhinoceros \n",
    "* Civet \n",
    "* Zorilla\n"
   ]
  },
  {
   "cell_type": "code",
   "execution_count": null,
   "id": "built-tender",
   "metadata": {},
   "outputs": [],
   "source": [
    "def get_x(r): return r['image_id']\n",
    "def get_y(r): return r['species']\n",
    "\n",
    "path = Path()\n",
    "learn_inf = load_learner(path/'fine_tuned_model.pkl', cpu=True)\n",
    "btn_upload = widgets.FileUpload()\n",
    "out_pl = widgets.Output()\n",
    "lbl_pred = widgets.Label()\n",
    "\n",
    "def on_data_change(change):\n",
    "    lbl_pred.value = ''\n",
    "    img = PILImage.create(btn_upload.data[-1])\n",
    "    out_pl.clear_output()\n",
    "    with out_pl: display(img.to_thumb(512,512))\n",
    "    pred,pred_idx,probs = learn_inf.predict(img)\n",
    "    lbl_pred.value = f'Prediction: {pred}; Probability: {probs[pred_idx]:.04f}'\n",
    "    \n",
    "btn_upload.observe(on_data_change, names=['data'])\n",
    "display(VBox([widgets.Label('Select your Animal!'), btn_upload, out_pl, lbl_pred]))\n",
    "display('Test Message')"
   ]
  },
  {
   "cell_type": "code",
   "execution_count": null,
   "id": "square-bundle",
   "metadata": {},
   "outputs": [],
   "source": [
    "d = {\"Wildebeest\": [\"Wildebeest also known as the gnu, are a member of the antelope family.\",\n",
    "                    \"About 80 percent of the females calve within the same two- to three-week period, creating a glut for predators and enabling more calves to survive the crucial first few weeks.\",\n",
    "                   \"Predators of the wildebeest are lions, cheetahs, hunting dogs, and hyenas.\",\n",
    "                   \"Their habitat is threatened by fragmentation, which is caused when land is fenced off for agriculture. While they are widespread and abundant in certain areas, the spread of civilization and agriculture, the reduction of water sources, and poaching are threatening this iconic species’ survival.\"],\n",
    "     \"Zebra\": [\"The most common and widespread zebra is the plains zebra.\",\n",
    "              'They live in small family groups called “harems.” These groups consist of one stallion, several mares, and their offspring. Harems generally remain together for months or even years, making it an incredibly stable family unit.',\n",
    "              'Plains zebras have at least 6 different vocal calls. A two-syllable call is used to alert herd members to predators while snorts indicate happiness. They also use facial expressions to communicate.',\n",
    "              'Predators of the plains zebra are lions, cheetahs, hyenas, hunting dogs, leopards, and humans.',\n",
    "              'Habitat loss due to human encroachment, agricultural practices, and livestock grazing remains an issue in the ongoing conservation of this species. These problems seem to be especially prevalent in the southern half of their range and account for much of recent population decline.',\n",
    "              'Especially severe in the northern half of their range, over-hunting poses a serious danger to zebra populations. They are hunted for their meat and their distinctive skins.']}\n",
    "\n",
    "dropdown = widgets.Dropdown(options=d)\n",
    "display(dropdown)\n",
    "display(' '.join(dropdown.value))"
   ]
  },
  {
   "cell_type": "markdown",
   "id": "published-footwear",
   "metadata": {},
   "source": [
    " ### <div align=\"center\"><span style='font-family:Georgia'> The images used to train this model are from [Snapshot Serengeti](https://www.zooniverse.org/projects/zooniverse/snapshot-serengeti). The species information is from [The African Wildlife Foundation](https://www.awf.org/). If you're interested in the coding that went into creating this model my GitHub repository can be found [here](https://github.com/Jilliane1993/Wildlife_Image_Classification). </span></div>"
   ]
  },
  {
   "cell_type": "code",
   "execution_count": null,
   "id": "strategic-african",
   "metadata": {},
   "outputs": [],
   "source": []
  }
 ],
 "metadata": {
  "environment": {
   "name": "pytorch-gpu.1-7.m65",
   "type": "gcloud",
   "uri": "gcr.io/deeplearning-platform-release/pytorch-gpu.1-7:m65"
  },
  "kernelspec": {
   "display_name": "Python 3",
   "language": "python",
   "name": "python3"
  },
  "language_info": {
   "codemirror_mode": {
    "name": "ipython",
    "version": 3
   },
   "file_extension": ".py",
   "mimetype": "text/x-python",
   "name": "python",
   "nbconvert_exporter": "python",
   "pygments_lexer": "ipython3",
   "version": "3.8.6"
  }
 },
 "nbformat": 4,
 "nbformat_minor": 5
}
